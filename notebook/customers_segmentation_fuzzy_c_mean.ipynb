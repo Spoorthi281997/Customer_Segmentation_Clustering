{
  "cells": [
    {
      "cell_type": "markdown",
      "id": "9e681ffe",
      "metadata": {
        "papermill": {
          "duration": 0.037761,
          "end_time": "2022-02-08T14:39:29.660331",
          "exception": false,
          "start_time": "2022-02-08T14:39:29.622570",
          "status": "completed"
        },
        "tags": [],
        "id": "9e681ffe"
      },
      "source": [
        "# <center> <font color='#8e44c7'> Customer Segmentation using Fuzzy Clustering </font>   </center>\n"
      ]
    },
    {
      "cell_type": "markdown",
      "id": "18882912",
      "metadata": {
        "papermill": {
          "duration": 0.036754,
          "end_time": "2022-02-08T14:39:29.735424",
          "exception": false,
          "start_time": "2022-02-08T14:39:29.698670",
          "status": "completed"
        },
        "tags": [],
        "id": "18882912"
      },
      "source": []
    },
    {
      "cell_type": "code",
      "execution_count": 128,
      "id": "51e20347",
      "metadata": {
        "execution": {
          "iopub.execute_input": "2022-02-08T14:39:29.802385Z",
          "iopub.status.busy": "2022-02-08T14:39:29.801521Z",
          "iopub.status.idle": "2022-02-08T14:39:33.301170Z",
          "shell.execute_reply": "2022-02-08T14:39:33.300624Z",
          "shell.execute_reply.started": "2022-02-08T14:30:46.778009Z"
        },
        "papermill": {
          "duration": 3.528833,
          "end_time": "2022-02-08T14:39:33.301308",
          "exception": false,
          "start_time": "2022-02-08T14:39:29.772475",
          "status": "completed"
        },
        "tags": [],
        "id": "51e20347"
      },
      "outputs": [],
      "source": [
        "import pandas as pd\n",
        "import numpy as np\n",
        "import seaborn as sns\n",
        "from datetime import datetime\n",
        "import plotly.express as px\n",
        "import plotly.figure_factory as ff\n",
        "\n",
        "import matplotlib.pyplot as plt\n",
        "\n",
        "### Clustering libraries\n",
        "from sklearn.cluster import KMeans\n",
        "\n",
        "### Clustering Metrics\n",
        "from sklearn.metrics import silhouette_score\n",
        "from sklearn.metrics import davies_bouldin_score\n",
        "from sklearn.metrics import calinski_harabasz_score\n",
        "\n",
        "import warnings\n",
        "warnings.filterwarnings('ignore')"
      ]
    },
    {
      "cell_type": "code",
      "execution_count": 129,
      "id": "4e4d3b6b",
      "metadata": {
        "execution": {
          "iopub.execute_input": "2022-02-08T14:39:33.351908Z",
          "iopub.status.busy": "2022-02-08T14:39:33.351462Z",
          "iopub.status.idle": "2022-02-08T14:39:33.356257Z",
          "shell.execute_reply": "2022-02-08T14:39:33.356625Z",
          "shell.execute_reply.started": "2022-02-08T14:31:15.991408Z"
        },
        "papermill": {
          "duration": 0.031069,
          "end_time": "2022-02-08T14:39:33.356783",
          "exception": false,
          "start_time": "2022-02-08T14:39:33.325714",
          "status": "completed"
        },
        "tags": [],
        "id": "4e4d3b6b"
      },
      "outputs": [],
      "source": [
        "def side_by_side(*objs, **kwds):\n",
        "    from pandas.io.formats.printing import adjoin\n",
        "    space = kwds.get('space', 4)\n",
        "    reprs = [repr(obj).split('\\n') for obj in objs]\n",
        "    print (adjoin(space, *reprs))\n",
        "    print()\n",
        "    return"
      ]
    },
    {
      "cell_type": "markdown",
      "id": "fb288495",
      "metadata": {
        "papermill": {
          "duration": 0.023931,
          "end_time": "2022-02-08T14:39:33.404861",
          "exception": false,
          "start_time": "2022-02-08T14:39:33.380930",
          "status": "completed"
        },
        "tags": [],
        "id": "fb288495"
      },
      "source": [
        "<a id=\"1\"></a>  \n",
        "\n",
        "### <font color='#8e44c7'>  Loading Dataset  </font>"
      ]
    },
    {
      "cell_type": "code",
      "execution_count": 140,
      "id": "fada3f8a",
      "metadata": {
        "execution": {
          "iopub.execute_input": "2022-02-08T14:39:33.456926Z",
          "iopub.status.busy": "2022-02-08T14:39:33.456464Z",
          "iopub.status.idle": "2022-02-08T14:39:33.473002Z",
          "shell.execute_reply": "2022-02-08T14:39:33.473400Z",
          "shell.execute_reply.started": "2022-02-08T14:31:20.839678Z"
        },
        "papermill": {
          "duration": 0.043727,
          "end_time": "2022-02-08T14:39:33.473529",
          "exception": false,
          "start_time": "2022-02-08T14:39:33.429802",
          "status": "completed"
        },
        "tags": [],
        "id": "fada3f8a"
      },
      "outputs": [],
      "source": [
        "mall_dataset = pd.read_csv('./Mall_Customers.csv')"
      ]
    },
    {
      "cell_type": "code",
      "source": [
        "mall_dataset.head(10)"
      ],
      "metadata": {
        "colab": {
          "base_uri": "https://localhost:8080/",
          "height": 359
        },
        "id": "tC8R1Im5sFM8",
        "outputId": "5cff413b-164e-4f95-dd15-70d3238b31cd"
      },
      "id": "tC8R1Im5sFM8",
      "execution_count": 141,
      "outputs": [
        {
          "output_type": "execute_result",
          "data": {
            "text/plain": [
              "   CustomerID  Gender  Age  Annual Income (k$)  Spending Score (1-100)\n",
              "0           1    Male   19                  15                      39\n",
              "1           2    Male   21                  15                      81\n",
              "2           3  Female   20                  16                       6\n",
              "3           4  Female   23                  16                      77\n",
              "4           5  Female   31                  17                      40\n",
              "5           6  Female   22                  17                      76\n",
              "6           7  Female   35                  18                       6\n",
              "7           8  Female   23                  18                      94\n",
              "8           9    Male   64                  19                       3\n",
              "9          10  Female   30                  19                      72"
            ],
            "text/html": [
              "\n",
              "  <div id=\"df-4f734bf2-9504-4641-a06d-4bcf03946e1c\">\n",
              "    <div class=\"colab-df-container\">\n",
              "      <div>\n",
              "<style scoped>\n",
              "    .dataframe tbody tr th:only-of-type {\n",
              "        vertical-align: middle;\n",
              "    }\n",
              "\n",
              "    .dataframe tbody tr th {\n",
              "        vertical-align: top;\n",
              "    }\n",
              "\n",
              "    .dataframe thead th {\n",
              "        text-align: right;\n",
              "    }\n",
              "</style>\n",
              "<table border=\"1\" class=\"dataframe\">\n",
              "  <thead>\n",
              "    <tr style=\"text-align: right;\">\n",
              "      <th></th>\n",
              "      <th>CustomerID</th>\n",
              "      <th>Gender</th>\n",
              "      <th>Age</th>\n",
              "      <th>Annual Income (k$)</th>\n",
              "      <th>Spending Score (1-100)</th>\n",
              "    </tr>\n",
              "  </thead>\n",
              "  <tbody>\n",
              "    <tr>\n",
              "      <th>0</th>\n",
              "      <td>1</td>\n",
              "      <td>Male</td>\n",
              "      <td>19</td>\n",
              "      <td>15</td>\n",
              "      <td>39</td>\n",
              "    </tr>\n",
              "    <tr>\n",
              "      <th>1</th>\n",
              "      <td>2</td>\n",
              "      <td>Male</td>\n",
              "      <td>21</td>\n",
              "      <td>15</td>\n",
              "      <td>81</td>\n",
              "    </tr>\n",
              "    <tr>\n",
              "      <th>2</th>\n",
              "      <td>3</td>\n",
              "      <td>Female</td>\n",
              "      <td>20</td>\n",
              "      <td>16</td>\n",
              "      <td>6</td>\n",
              "    </tr>\n",
              "    <tr>\n",
              "      <th>3</th>\n",
              "      <td>4</td>\n",
              "      <td>Female</td>\n",
              "      <td>23</td>\n",
              "      <td>16</td>\n",
              "      <td>77</td>\n",
              "    </tr>\n",
              "    <tr>\n",
              "      <th>4</th>\n",
              "      <td>5</td>\n",
              "      <td>Female</td>\n",
              "      <td>31</td>\n",
              "      <td>17</td>\n",
              "      <td>40</td>\n",
              "    </tr>\n",
              "    <tr>\n",
              "      <th>5</th>\n",
              "      <td>6</td>\n",
              "      <td>Female</td>\n",
              "      <td>22</td>\n",
              "      <td>17</td>\n",
              "      <td>76</td>\n",
              "    </tr>\n",
              "    <tr>\n",
              "      <th>6</th>\n",
              "      <td>7</td>\n",
              "      <td>Female</td>\n",
              "      <td>35</td>\n",
              "      <td>18</td>\n",
              "      <td>6</td>\n",
              "    </tr>\n",
              "    <tr>\n",
              "      <th>7</th>\n",
              "      <td>8</td>\n",
              "      <td>Female</td>\n",
              "      <td>23</td>\n",
              "      <td>18</td>\n",
              "      <td>94</td>\n",
              "    </tr>\n",
              "    <tr>\n",
              "      <th>8</th>\n",
              "      <td>9</td>\n",
              "      <td>Male</td>\n",
              "      <td>64</td>\n",
              "      <td>19</td>\n",
              "      <td>3</td>\n",
              "    </tr>\n",
              "    <tr>\n",
              "      <th>9</th>\n",
              "      <td>10</td>\n",
              "      <td>Female</td>\n",
              "      <td>30</td>\n",
              "      <td>19</td>\n",
              "      <td>72</td>\n",
              "    </tr>\n",
              "  </tbody>\n",
              "</table>\n",
              "</div>\n",
              "      <button class=\"colab-df-convert\" onclick=\"convertToInteractive('df-4f734bf2-9504-4641-a06d-4bcf03946e1c')\"\n",
              "              title=\"Convert this dataframe to an interactive table.\"\n",
              "              style=\"display:none;\">\n",
              "        \n",
              "  <svg xmlns=\"http://www.w3.org/2000/svg\" height=\"24px\"viewBox=\"0 0 24 24\"\n",
              "       width=\"24px\">\n",
              "    <path d=\"M0 0h24v24H0V0z\" fill=\"none\"/>\n",
              "    <path d=\"M18.56 5.44l.94 2.06.94-2.06 2.06-.94-2.06-.94-.94-2.06-.94 2.06-2.06.94zm-11 1L8.5 8.5l.94-2.06 2.06-.94-2.06-.94L8.5 2.5l-.94 2.06-2.06.94zm10 10l.94 2.06.94-2.06 2.06-.94-2.06-.94-.94-2.06-.94 2.06-2.06.94z\"/><path d=\"M17.41 7.96l-1.37-1.37c-.4-.4-.92-.59-1.43-.59-.52 0-1.04.2-1.43.59L10.3 9.45l-7.72 7.72c-.78.78-.78 2.05 0 2.83L4 21.41c.39.39.9.59 1.41.59.51 0 1.02-.2 1.41-.59l7.78-7.78 2.81-2.81c.8-.78.8-2.07 0-2.86zM5.41 20L4 18.59l7.72-7.72 1.47 1.35L5.41 20z\"/>\n",
              "  </svg>\n",
              "      </button>\n",
              "      \n",
              "  <style>\n",
              "    .colab-df-container {\n",
              "      display:flex;\n",
              "      flex-wrap:wrap;\n",
              "      gap: 12px;\n",
              "    }\n",
              "\n",
              "    .colab-df-convert {\n",
              "      background-color: #E8F0FE;\n",
              "      border: none;\n",
              "      border-radius: 50%;\n",
              "      cursor: pointer;\n",
              "      display: none;\n",
              "      fill: #1967D2;\n",
              "      height: 32px;\n",
              "      padding: 0 0 0 0;\n",
              "      width: 32px;\n",
              "    }\n",
              "\n",
              "    .colab-df-convert:hover {\n",
              "      background-color: #E2EBFA;\n",
              "      box-shadow: 0px 1px 2px rgba(60, 64, 67, 0.3), 0px 1px 3px 1px rgba(60, 64, 67, 0.15);\n",
              "      fill: #174EA6;\n",
              "    }\n",
              "\n",
              "    [theme=dark] .colab-df-convert {\n",
              "      background-color: #3B4455;\n",
              "      fill: #D2E3FC;\n",
              "    }\n",
              "\n",
              "    [theme=dark] .colab-df-convert:hover {\n",
              "      background-color: #434B5C;\n",
              "      box-shadow: 0px 1px 3px 1px rgba(0, 0, 0, 0.15);\n",
              "      filter: drop-shadow(0px 1px 2px rgba(0, 0, 0, 0.3));\n",
              "      fill: #FFFFFF;\n",
              "    }\n",
              "  </style>\n",
              "\n",
              "      <script>\n",
              "        const buttonEl =\n",
              "          document.querySelector('#df-4f734bf2-9504-4641-a06d-4bcf03946e1c button.colab-df-convert');\n",
              "        buttonEl.style.display =\n",
              "          google.colab.kernel.accessAllowed ? 'block' : 'none';\n",
              "\n",
              "        async function convertToInteractive(key) {\n",
              "          const element = document.querySelector('#df-4f734bf2-9504-4641-a06d-4bcf03946e1c');\n",
              "          const dataTable =\n",
              "            await google.colab.kernel.invokeFunction('convertToInteractive',\n",
              "                                                     [key], {});\n",
              "          if (!dataTable) return;\n",
              "\n",
              "          const docLinkHtml = 'Like what you see? Visit the ' +\n",
              "            '<a target=\"_blank\" href=https://colab.research.google.com/notebooks/data_table.ipynb>data table notebook</a>'\n",
              "            + ' to learn more about interactive tables.';\n",
              "          element.innerHTML = '';\n",
              "          dataTable['output_type'] = 'display_data';\n",
              "          await google.colab.output.renderOutput(dataTable, element);\n",
              "          const docLink = document.createElement('div');\n",
              "          docLink.innerHTML = docLinkHtml;\n",
              "          element.appendChild(docLink);\n",
              "        }\n",
              "      </script>\n",
              "    </div>\n",
              "  </div>\n",
              "  "
            ]
          },
          "metadata": {},
          "execution_count": 141
        }
      ]
    },
    {
      "cell_type": "markdown",
      "id": "19c7b820",
      "metadata": {
        "papermill": {
          "duration": 0.024363,
          "end_time": "2022-02-08T14:39:33.521999",
          "exception": false,
          "start_time": "2022-02-08T14:39:33.497636",
          "status": "completed"
        },
        "tags": [],
        "id": "19c7b820"
      },
      "source": [
        "<a id=\"2\"></a>  \n",
        "\n",
        "### <font color='#8e44c7'>  Preparing Data  </font>"
      ]
    },
    {
      "cell_type": "code",
      "execution_count": 142,
      "id": "6d776a02",
      "metadata": {
        "execution": {
          "iopub.execute_input": "2022-02-08T14:39:33.573516Z",
          "iopub.status.busy": "2022-02-08T14:39:33.573028Z",
          "iopub.status.idle": "2022-02-08T14:39:33.578916Z",
          "shell.execute_reply": "2022-02-08T14:39:33.579300Z",
          "shell.execute_reply.started": "2022-02-08T14:31:23.654422Z"
        },
        "papermill": {
          "duration": 0.033209,
          "end_time": "2022-02-08T14:39:33.579433",
          "exception": false,
          "start_time": "2022-02-08T14:39:33.546224",
          "status": "completed"
        },
        "tags": [],
        "colab": {
          "base_uri": "https://localhost:8080/"
        },
        "id": "6d776a02",
        "outputId": "32fd47ab-655e-4491-9ecb-fc8e9093e370"
      },
      "outputs": [
        {
          "output_type": "execute_result",
          "data": {
            "text/plain": [
              "Index(['CustomerID', 'Gender', 'Age', 'Annual Income (k$)',\n",
              "       'Spending Score (1-100)'],\n",
              "      dtype='object')"
            ]
          },
          "metadata": {},
          "execution_count": 142
        }
      ],
      "source": [
        "mall_dataset.columns"
      ]
    },
    {
      "cell_type": "code",
      "source": [
        "mall_dataset =mall_dataset.rename(columns={\"Annual Income (k$)\": \"Percentage of Interest\"})\n",
        "\n"
      ],
      "metadata": {
        "id": "0TGIayKZN7r-"
      },
      "id": "0TGIayKZN7r-",
      "execution_count": 143,
      "outputs": []
    },
    {
      "cell_type": "code",
      "source": [
        "mall_dataset.columns"
      ],
      "metadata": {
        "colab": {
          "base_uri": "https://localhost:8080/"
        },
        "id": "5PHmgrf6OqXm",
        "outputId": "157f9865-6087-4e4c-cdeb-234dbfa6b3b5"
      },
      "id": "5PHmgrf6OqXm",
      "execution_count": 144,
      "outputs": [
        {
          "output_type": "execute_result",
          "data": {
            "text/plain": [
              "Index(['CustomerID', 'Gender', 'Age', 'Percentage of Interest',\n",
              "       'Spending Score (1-100)'],\n",
              "      dtype='object')"
            ]
          },
          "metadata": {},
          "execution_count": 144
        }
      ]
    },
    {
      "cell_type": "markdown",
      "source": [
        "Electronics : 1\n",
        "Clothing : 2\n",
        "Food : 3\n",
        "Books : 4\n",
        "Home Decor : 5\n",
        "Baby Products : 6\n",
        "Sports and Outdoor : 7"
      ],
      "metadata": {
        "id": "9AlekcomSxhf"
      },
      "id": "9AlekcomSxhf"
    },
    {
      "cell_type": "code",
      "execution_count": 145,
      "id": "4eb51269",
      "metadata": {
        "execution": {
          "iopub.execute_input": "2022-02-08T14:39:33.630635Z",
          "iopub.status.busy": "2022-02-08T14:39:33.630180Z",
          "iopub.status.idle": "2022-02-08T14:39:33.642054Z",
          "shell.execute_reply": "2022-02-08T14:39:33.642465Z",
          "shell.execute_reply.started": "2022-02-08T14:31:25.451071Z"
        },
        "papermill": {
          "duration": 0.038825,
          "end_time": "2022-02-08T14:39:33.642594",
          "exception": false,
          "start_time": "2022-02-08T14:39:33.603769",
          "status": "completed"
        },
        "tags": [],
        "id": "4eb51269"
      },
      "outputs": [],
      "source": [
        "### we don't need customer id\n",
        "\n",
        "mall_dataset.drop(['CustomerID'], axis=1, inplace=True)\n",
        "mall_dataset = mall_dataset[0:185]"
      ]
    },
    {
      "cell_type": "code",
      "execution_count": 146,
      "id": "bbfacc69",
      "metadata": {
        "execution": {
          "iopub.execute_input": "2022-02-08T14:39:33.742893Z",
          "iopub.status.busy": "2022-02-08T14:39:33.742423Z",
          "iopub.status.idle": "2022-02-08T14:39:33.752752Z",
          "shell.execute_reply": "2022-02-08T14:39:33.753150Z",
          "shell.execute_reply.started": "2022-02-08T14:31:27.798425Z"
        },
        "papermill": {
          "duration": 0.037441,
          "end_time": "2022-02-08T14:39:33.753309",
          "exception": false,
          "start_time": "2022-02-08T14:39:33.715868",
          "status": "completed"
        },
        "tags": [],
        "colab": {
          "base_uri": "https://localhost:8080/",
          "height": 359
        },
        "id": "bbfacc69",
        "outputId": "c02000a6-3958-4b7f-b62b-1c579781d1a8"
      },
      "outputs": [
        {
          "output_type": "execute_result",
          "data": {
            "text/plain": [
              "   Gender  Age  Percentage of Interest  Spending Score (1-100)\n",
              "0    Male   19                      15                      39\n",
              "1    Male   21                      15                      81\n",
              "2  Female   20                      16                       6\n",
              "3  Female   23                      16                      77\n",
              "4  Female   31                      17                      40\n",
              "5  Female   22                      17                      76\n",
              "6  Female   35                      18                       6\n",
              "7  Female   23                      18                      94\n",
              "8    Male   64                      19                       3\n",
              "9  Female   30                      19                      72"
            ],
            "text/html": [
              "\n",
              "  <div id=\"df-66e11bae-860e-4ae0-b4fa-7b78dbb314b1\">\n",
              "    <div class=\"colab-df-container\">\n",
              "      <div>\n",
              "<style scoped>\n",
              "    .dataframe tbody tr th:only-of-type {\n",
              "        vertical-align: middle;\n",
              "    }\n",
              "\n",
              "    .dataframe tbody tr th {\n",
              "        vertical-align: top;\n",
              "    }\n",
              "\n",
              "    .dataframe thead th {\n",
              "        text-align: right;\n",
              "    }\n",
              "</style>\n",
              "<table border=\"1\" class=\"dataframe\">\n",
              "  <thead>\n",
              "    <tr style=\"text-align: right;\">\n",
              "      <th></th>\n",
              "      <th>Gender</th>\n",
              "      <th>Age</th>\n",
              "      <th>Percentage of Interest</th>\n",
              "      <th>Spending Score (1-100)</th>\n",
              "    </tr>\n",
              "  </thead>\n",
              "  <tbody>\n",
              "    <tr>\n",
              "      <th>0</th>\n",
              "      <td>Male</td>\n",
              "      <td>19</td>\n",
              "      <td>15</td>\n",
              "      <td>39</td>\n",
              "    </tr>\n",
              "    <tr>\n",
              "      <th>1</th>\n",
              "      <td>Male</td>\n",
              "      <td>21</td>\n",
              "      <td>15</td>\n",
              "      <td>81</td>\n",
              "    </tr>\n",
              "    <tr>\n",
              "      <th>2</th>\n",
              "      <td>Female</td>\n",
              "      <td>20</td>\n",
              "      <td>16</td>\n",
              "      <td>6</td>\n",
              "    </tr>\n",
              "    <tr>\n",
              "      <th>3</th>\n",
              "      <td>Female</td>\n",
              "      <td>23</td>\n",
              "      <td>16</td>\n",
              "      <td>77</td>\n",
              "    </tr>\n",
              "    <tr>\n",
              "      <th>4</th>\n",
              "      <td>Female</td>\n",
              "      <td>31</td>\n",
              "      <td>17</td>\n",
              "      <td>40</td>\n",
              "    </tr>\n",
              "    <tr>\n",
              "      <th>5</th>\n",
              "      <td>Female</td>\n",
              "      <td>22</td>\n",
              "      <td>17</td>\n",
              "      <td>76</td>\n",
              "    </tr>\n",
              "    <tr>\n",
              "      <th>6</th>\n",
              "      <td>Female</td>\n",
              "      <td>35</td>\n",
              "      <td>18</td>\n",
              "      <td>6</td>\n",
              "    </tr>\n",
              "    <tr>\n",
              "      <th>7</th>\n",
              "      <td>Female</td>\n",
              "      <td>23</td>\n",
              "      <td>18</td>\n",
              "      <td>94</td>\n",
              "    </tr>\n",
              "    <tr>\n",
              "      <th>8</th>\n",
              "      <td>Male</td>\n",
              "      <td>64</td>\n",
              "      <td>19</td>\n",
              "      <td>3</td>\n",
              "    </tr>\n",
              "    <tr>\n",
              "      <th>9</th>\n",
              "      <td>Female</td>\n",
              "      <td>30</td>\n",
              "      <td>19</td>\n",
              "      <td>72</td>\n",
              "    </tr>\n",
              "  </tbody>\n",
              "</table>\n",
              "</div>\n",
              "      <button class=\"colab-df-convert\" onclick=\"convertToInteractive('df-66e11bae-860e-4ae0-b4fa-7b78dbb314b1')\"\n",
              "              title=\"Convert this dataframe to an interactive table.\"\n",
              "              style=\"display:none;\">\n",
              "        \n",
              "  <svg xmlns=\"http://www.w3.org/2000/svg\" height=\"24px\"viewBox=\"0 0 24 24\"\n",
              "       width=\"24px\">\n",
              "    <path d=\"M0 0h24v24H0V0z\" fill=\"none\"/>\n",
              "    <path d=\"M18.56 5.44l.94 2.06.94-2.06 2.06-.94-2.06-.94-.94-2.06-.94 2.06-2.06.94zm-11 1L8.5 8.5l.94-2.06 2.06-.94-2.06-.94L8.5 2.5l-.94 2.06-2.06.94zm10 10l.94 2.06.94-2.06 2.06-.94-2.06-.94-.94-2.06-.94 2.06-2.06.94z\"/><path d=\"M17.41 7.96l-1.37-1.37c-.4-.4-.92-.59-1.43-.59-.52 0-1.04.2-1.43.59L10.3 9.45l-7.72 7.72c-.78.78-.78 2.05 0 2.83L4 21.41c.39.39.9.59 1.41.59.51 0 1.02-.2 1.41-.59l7.78-7.78 2.81-2.81c.8-.78.8-2.07 0-2.86zM5.41 20L4 18.59l7.72-7.72 1.47 1.35L5.41 20z\"/>\n",
              "  </svg>\n",
              "      </button>\n",
              "      \n",
              "  <style>\n",
              "    .colab-df-container {\n",
              "      display:flex;\n",
              "      flex-wrap:wrap;\n",
              "      gap: 12px;\n",
              "    }\n",
              "\n",
              "    .colab-df-convert {\n",
              "      background-color: #E8F0FE;\n",
              "      border: none;\n",
              "      border-radius: 50%;\n",
              "      cursor: pointer;\n",
              "      display: none;\n",
              "      fill: #1967D2;\n",
              "      height: 32px;\n",
              "      padding: 0 0 0 0;\n",
              "      width: 32px;\n",
              "    }\n",
              "\n",
              "    .colab-df-convert:hover {\n",
              "      background-color: #E2EBFA;\n",
              "      box-shadow: 0px 1px 2px rgba(60, 64, 67, 0.3), 0px 1px 3px 1px rgba(60, 64, 67, 0.15);\n",
              "      fill: #174EA6;\n",
              "    }\n",
              "\n",
              "    [theme=dark] .colab-df-convert {\n",
              "      background-color: #3B4455;\n",
              "      fill: #D2E3FC;\n",
              "    }\n",
              "\n",
              "    [theme=dark] .colab-df-convert:hover {\n",
              "      background-color: #434B5C;\n",
              "      box-shadow: 0px 1px 3px 1px rgba(0, 0, 0, 0.15);\n",
              "      filter: drop-shadow(0px 1px 2px rgba(0, 0, 0, 0.3));\n",
              "      fill: #FFFFFF;\n",
              "    }\n",
              "  </style>\n",
              "\n",
              "      <script>\n",
              "        const buttonEl =\n",
              "          document.querySelector('#df-66e11bae-860e-4ae0-b4fa-7b78dbb314b1 button.colab-df-convert');\n",
              "        buttonEl.style.display =\n",
              "          google.colab.kernel.accessAllowed ? 'block' : 'none';\n",
              "\n",
              "        async function convertToInteractive(key) {\n",
              "          const element = document.querySelector('#df-66e11bae-860e-4ae0-b4fa-7b78dbb314b1');\n",
              "          const dataTable =\n",
              "            await google.colab.kernel.invokeFunction('convertToInteractive',\n",
              "                                                     [key], {});\n",
              "          if (!dataTable) return;\n",
              "\n",
              "          const docLinkHtml = 'Like what you see? Visit the ' +\n",
              "            '<a target=\"_blank\" href=https://colab.research.google.com/notebooks/data_table.ipynb>data table notebook</a>'\n",
              "            + ' to learn more about interactive tables.';\n",
              "          element.innerHTML = '';\n",
              "          dataTable['output_type'] = 'display_data';\n",
              "          await google.colab.output.renderOutput(dataTable, element);\n",
              "          const docLink = document.createElement('div');\n",
              "          docLink.innerHTML = docLinkHtml;\n",
              "          element.appendChild(docLink);\n",
              "        }\n",
              "      </script>\n",
              "    </div>\n",
              "  </div>\n",
              "  "
            ]
          },
          "metadata": {},
          "execution_count": 146
        }
      ],
      "source": [
        "mall_dataset.head(10)"
      ]
    },
    {
      "cell_type": "code",
      "execution_count": 147,
      "id": "c53afe79",
      "metadata": {
        "execution": {
          "iopub.execute_input": "2022-02-08T14:39:33.806248Z",
          "iopub.status.busy": "2022-02-08T14:39:33.805483Z",
          "iopub.status.idle": "2022-02-08T14:39:33.813899Z",
          "shell.execute_reply": "2022-02-08T14:39:33.813438Z",
          "shell.execute_reply.started": "2022-02-08T14:31:28.225108Z"
        },
        "papermill": {
          "duration": 0.035403,
          "end_time": "2022-02-08T14:39:33.814008",
          "exception": false,
          "start_time": "2022-02-08T14:39:33.778605",
          "status": "completed"
        },
        "tags": [],
        "id": "c53afe79"
      },
      "outputs": [],
      "source": [
        "## Gender column - label encoding\n",
        "\n",
        "gender_mapping = {\"Female\": 1, \"Male\": 0}\n",
        "mall_dataset['Gender'] = mall_dataset['Gender'].map(gender_mapping)"
      ]
    },
    {
      "cell_type": "code",
      "source": [
        "mall_dataset"
      ],
      "metadata": {
        "colab": {
          "base_uri": "https://localhost:8080/",
          "height": 419
        },
        "id": "SODU0EyStiaT",
        "outputId": "f5fa1cdb-16bf-4d6d-afa7-d5fc7fe3364f"
      },
      "id": "SODU0EyStiaT",
      "execution_count": 148,
      "outputs": [
        {
          "output_type": "execute_result",
          "data": {
            "text/plain": [
              "     Gender  Age  Percentage of Interest  Spending Score (1-100)\n",
              "0         0   19                      15                      39\n",
              "1         0   21                      15                      81\n",
              "2         1   20                      16                       6\n",
              "3         1   23                      16                      77\n",
              "4         1   31                      17                      40\n",
              "..      ...  ...                     ...                     ...\n",
              "180       1   37                      97                      32\n",
              "181       1   32                      97                      86\n",
              "182       0   46                      98                      15\n",
              "183       1   29                      98                      88\n",
              "184       1   41                      99                      39\n",
              "\n",
              "[185 rows x 4 columns]"
            ],
            "text/html": [
              "\n",
              "  <div id=\"df-87573b2f-f0ab-4429-b5ab-10cad1768012\">\n",
              "    <div class=\"colab-df-container\">\n",
              "      <div>\n",
              "<style scoped>\n",
              "    .dataframe tbody tr th:only-of-type {\n",
              "        vertical-align: middle;\n",
              "    }\n",
              "\n",
              "    .dataframe tbody tr th {\n",
              "        vertical-align: top;\n",
              "    }\n",
              "\n",
              "    .dataframe thead th {\n",
              "        text-align: right;\n",
              "    }\n",
              "</style>\n",
              "<table border=\"1\" class=\"dataframe\">\n",
              "  <thead>\n",
              "    <tr style=\"text-align: right;\">\n",
              "      <th></th>\n",
              "      <th>Gender</th>\n",
              "      <th>Age</th>\n",
              "      <th>Percentage of Interest</th>\n",
              "      <th>Spending Score (1-100)</th>\n",
              "    </tr>\n",
              "  </thead>\n",
              "  <tbody>\n",
              "    <tr>\n",
              "      <th>0</th>\n",
              "      <td>0</td>\n",
              "      <td>19</td>\n",
              "      <td>15</td>\n",
              "      <td>39</td>\n",
              "    </tr>\n",
              "    <tr>\n",
              "      <th>1</th>\n",
              "      <td>0</td>\n",
              "      <td>21</td>\n",
              "      <td>15</td>\n",
              "      <td>81</td>\n",
              "    </tr>\n",
              "    <tr>\n",
              "      <th>2</th>\n",
              "      <td>1</td>\n",
              "      <td>20</td>\n",
              "      <td>16</td>\n",
              "      <td>6</td>\n",
              "    </tr>\n",
              "    <tr>\n",
              "      <th>3</th>\n",
              "      <td>1</td>\n",
              "      <td>23</td>\n",
              "      <td>16</td>\n",
              "      <td>77</td>\n",
              "    </tr>\n",
              "    <tr>\n",
              "      <th>4</th>\n",
              "      <td>1</td>\n",
              "      <td>31</td>\n",
              "      <td>17</td>\n",
              "      <td>40</td>\n",
              "    </tr>\n",
              "    <tr>\n",
              "      <th>...</th>\n",
              "      <td>...</td>\n",
              "      <td>...</td>\n",
              "      <td>...</td>\n",
              "      <td>...</td>\n",
              "    </tr>\n",
              "    <tr>\n",
              "      <th>180</th>\n",
              "      <td>1</td>\n",
              "      <td>37</td>\n",
              "      <td>97</td>\n",
              "      <td>32</td>\n",
              "    </tr>\n",
              "    <tr>\n",
              "      <th>181</th>\n",
              "      <td>1</td>\n",
              "      <td>32</td>\n",
              "      <td>97</td>\n",
              "      <td>86</td>\n",
              "    </tr>\n",
              "    <tr>\n",
              "      <th>182</th>\n",
              "      <td>0</td>\n",
              "      <td>46</td>\n",
              "      <td>98</td>\n",
              "      <td>15</td>\n",
              "    </tr>\n",
              "    <tr>\n",
              "      <th>183</th>\n",
              "      <td>1</td>\n",
              "      <td>29</td>\n",
              "      <td>98</td>\n",
              "      <td>88</td>\n",
              "    </tr>\n",
              "    <tr>\n",
              "      <th>184</th>\n",
              "      <td>1</td>\n",
              "      <td>41</td>\n",
              "      <td>99</td>\n",
              "      <td>39</td>\n",
              "    </tr>\n",
              "  </tbody>\n",
              "</table>\n",
              "<p>185 rows × 4 columns</p>\n",
              "</div>\n",
              "      <button class=\"colab-df-convert\" onclick=\"convertToInteractive('df-87573b2f-f0ab-4429-b5ab-10cad1768012')\"\n",
              "              title=\"Convert this dataframe to an interactive table.\"\n",
              "              style=\"display:none;\">\n",
              "        \n",
              "  <svg xmlns=\"http://www.w3.org/2000/svg\" height=\"24px\"viewBox=\"0 0 24 24\"\n",
              "       width=\"24px\">\n",
              "    <path d=\"M0 0h24v24H0V0z\" fill=\"none\"/>\n",
              "    <path d=\"M18.56 5.44l.94 2.06.94-2.06 2.06-.94-2.06-.94-.94-2.06-.94 2.06-2.06.94zm-11 1L8.5 8.5l.94-2.06 2.06-.94-2.06-.94L8.5 2.5l-.94 2.06-2.06.94zm10 10l.94 2.06.94-2.06 2.06-.94-2.06-.94-.94-2.06-.94 2.06-2.06.94z\"/><path d=\"M17.41 7.96l-1.37-1.37c-.4-.4-.92-.59-1.43-.59-.52 0-1.04.2-1.43.59L10.3 9.45l-7.72 7.72c-.78.78-.78 2.05 0 2.83L4 21.41c.39.39.9.59 1.41.59.51 0 1.02-.2 1.41-.59l7.78-7.78 2.81-2.81c.8-.78.8-2.07 0-2.86zM5.41 20L4 18.59l7.72-7.72 1.47 1.35L5.41 20z\"/>\n",
              "  </svg>\n",
              "      </button>\n",
              "      \n",
              "  <style>\n",
              "    .colab-df-container {\n",
              "      display:flex;\n",
              "      flex-wrap:wrap;\n",
              "      gap: 12px;\n",
              "    }\n",
              "\n",
              "    .colab-df-convert {\n",
              "      background-color: #E8F0FE;\n",
              "      border: none;\n",
              "      border-radius: 50%;\n",
              "      cursor: pointer;\n",
              "      display: none;\n",
              "      fill: #1967D2;\n",
              "      height: 32px;\n",
              "      padding: 0 0 0 0;\n",
              "      width: 32px;\n",
              "    }\n",
              "\n",
              "    .colab-df-convert:hover {\n",
              "      background-color: #E2EBFA;\n",
              "      box-shadow: 0px 1px 2px rgba(60, 64, 67, 0.3), 0px 1px 3px 1px rgba(60, 64, 67, 0.15);\n",
              "      fill: #174EA6;\n",
              "    }\n",
              "\n",
              "    [theme=dark] .colab-df-convert {\n",
              "      background-color: #3B4455;\n",
              "      fill: #D2E3FC;\n",
              "    }\n",
              "\n",
              "    [theme=dark] .colab-df-convert:hover {\n",
              "      background-color: #434B5C;\n",
              "      box-shadow: 0px 1px 3px 1px rgba(0, 0, 0, 0.15);\n",
              "      filter: drop-shadow(0px 1px 2px rgba(0, 0, 0, 0.3));\n",
              "      fill: #FFFFFF;\n",
              "    }\n",
              "  </style>\n",
              "\n",
              "      <script>\n",
              "        const buttonEl =\n",
              "          document.querySelector('#df-87573b2f-f0ab-4429-b5ab-10cad1768012 button.colab-df-convert');\n",
              "        buttonEl.style.display =\n",
              "          google.colab.kernel.accessAllowed ? 'block' : 'none';\n",
              "\n",
              "        async function convertToInteractive(key) {\n",
              "          const element = document.querySelector('#df-87573b2f-f0ab-4429-b5ab-10cad1768012');\n",
              "          const dataTable =\n",
              "            await google.colab.kernel.invokeFunction('convertToInteractive',\n",
              "                                                     [key], {});\n",
              "          if (!dataTable) return;\n",
              "\n",
              "          const docLinkHtml = 'Like what you see? Visit the ' +\n",
              "            '<a target=\"_blank\" href=https://colab.research.google.com/notebooks/data_table.ipynb>data table notebook</a>'\n",
              "            + ' to learn more about interactive tables.';\n",
              "          element.innerHTML = '';\n",
              "          dataTable['output_type'] = 'display_data';\n",
              "          await google.colab.output.renderOutput(dataTable, element);\n",
              "          const docLink = document.createElement('div');\n",
              "          docLink.innerHTML = docLinkHtml;\n",
              "          element.appendChild(docLink);\n",
              "        }\n",
              "      </script>\n",
              "    </div>\n",
              "  </div>\n",
              "  "
            ]
          },
          "metadata": {},
          "execution_count": 148
        }
      ]
    },
    {
      "cell_type": "markdown",
      "id": "cd9e898d",
      "metadata": {
        "papermill": {
          "duration": 0.024215,
          "end_time": "2022-02-08T14:39:33.862720",
          "exception": false,
          "start_time": "2022-02-08T14:39:33.838505",
          "status": "completed"
        },
        "tags": [],
        "id": "cd9e898d"
      },
      "source": [
        "#### Checking for missing values"
      ]
    },
    {
      "cell_type": "code",
      "execution_count": 149,
      "id": "0e134028",
      "metadata": {
        "execution": {
          "iopub.execute_input": "2022-02-08T14:39:33.914472Z",
          "iopub.status.busy": "2022-02-08T14:39:33.913828Z",
          "iopub.status.idle": "2022-02-08T14:39:33.920546Z",
          "shell.execute_reply": "2022-02-08T14:39:33.920911Z",
          "shell.execute_reply.started": "2022-02-08T14:31:30.92076Z"
        },
        "papermill": {
          "duration": 0.033829,
          "end_time": "2022-02-08T14:39:33.921046",
          "exception": false,
          "start_time": "2022-02-08T14:39:33.887217",
          "status": "completed"
        },
        "tags": [],
        "colab": {
          "base_uri": "https://localhost:8080/"
        },
        "id": "0e134028",
        "outputId": "3e8f28a7-9efc-4a5f-f442-defcd3459d7a"
      },
      "outputs": [
        {
          "output_type": "stream",
          "name": "stdout",
          "text": [
            "Gender                    0    Gender                    185\n",
            "Age                       0    Age                       185\n",
            "Percentage of Interest    0    Percentage of Interest    185\n",
            "Spending Score (1-100)    0    Spending Score (1-100)    185\n",
            "dtype: int64                   dtype: int64                 \n",
            "\n"
          ]
        }
      ],
      "source": [
        "# out of total rows how many rows of them are Null\n",
        "\n",
        "side_by_side(mall_dataset.isnull().sum(), mall_dataset.count())"
      ]
    },
    {
      "cell_type": "markdown",
      "id": "72ac33bb",
      "metadata": {
        "papermill": {
          "duration": 0.029989,
          "end_time": "2022-02-08T14:39:37.331660",
          "exception": false,
          "start_time": "2022-02-08T14:39:37.301671",
          "status": "completed"
        },
        "tags": [],
        "id": "72ac33bb"
      },
      "source": [
        "> From Elbow Plot we can see that k=6 is best option!"
      ]
    },
    {
      "cell_type": "markdown",
      "id": "b1431dc8",
      "metadata": {
        "papermill": {
          "duration": 0.031438,
          "end_time": "2022-02-08T14:39:37.393650",
          "exception": false,
          "start_time": "2022-02-08T14:39:37.362212",
          "status": "completed"
        },
        "tags": [],
        "id": "b1431dc8"
      },
      "source": [
        "#### Fuzzy C-Means Clustering"
      ]
    },
    {
      "cell_type": "code",
      "execution_count": 49,
      "id": "ac05ced3",
      "metadata": {
        "execution": {
          "iopub.execute_input": "2022-02-08T14:39:37.467529Z",
          "iopub.status.busy": "2022-02-08T14:39:37.461509Z",
          "iopub.status.idle": "2022-02-08T14:39:50.521559Z",
          "shell.execute_reply": "2022-02-08T14:39:50.520883Z"
        },
        "papermill": {
          "duration": 13.096291,
          "end_time": "2022-02-08T14:39:50.521692",
          "exception": false,
          "start_time": "2022-02-08T14:39:37.425401",
          "status": "completed"
        },
        "tags": [],
        "colab": {
          "base_uri": "https://localhost:8080/"
        },
        "id": "ac05ced3",
        "outputId": "aabde5d3-fee1-43b2-e530-d2b5b859df81"
      },
      "outputs": [
        {
          "output_type": "stream",
          "name": "stdout",
          "text": [
            "Collecting fuzzy-c-means\n",
            "  Downloading fuzzy_c_means-1.7.0-py3-none-any.whl (9.0 kB)\n",
            "Requirement already satisfied: joblib<2.0.0,>=1.2.0 in /usr/local/lib/python3.10/dist-packages (from fuzzy-c-means) (1.2.0)\n",
            "Requirement already satisfied: numpy<2.0.0,>=1.21.1 in /usr/local/lib/python3.10/dist-packages (from fuzzy-c-means) (1.22.4)\n",
            "Requirement already satisfied: pydantic<2.0.0,>=1.9.0 in /usr/local/lib/python3.10/dist-packages (from fuzzy-c-means) (1.10.9)\n",
            "Requirement already satisfied: tabulate<0.9.0,>=0.8.9 in /usr/local/lib/python3.10/dist-packages (from fuzzy-c-means) (0.8.10)\n",
            "Requirement already satisfied: tqdm<5.0.0,>=4.64.1 in /usr/local/lib/python3.10/dist-packages (from fuzzy-c-means) (4.65.0)\n",
            "Collecting typer<0.5.0,>=0.4.0 (from fuzzy-c-means)\n",
            "  Downloading typer-0.4.2-py3-none-any.whl (27 kB)\n",
            "Requirement already satisfied: typing-extensions>=4.2.0 in /usr/local/lib/python3.10/dist-packages (from pydantic<2.0.0,>=1.9.0->fuzzy-c-means) (4.6.3)\n",
            "Requirement already satisfied: click<9.0.0,>=7.1.1 in /usr/local/lib/python3.10/dist-packages (from typer<0.5.0,>=0.4.0->fuzzy-c-means) (8.1.3)\n",
            "Installing collected packages: typer, fuzzy-c-means\n",
            "  Attempting uninstall: typer\n",
            "    Found existing installation: typer 0.7.0\n",
            "    Uninstalling typer-0.7.0:\n",
            "      Successfully uninstalled typer-0.7.0\n",
            "Successfully installed fuzzy-c-means-1.7.0 typer-0.4.2\n"
          ]
        }
      ],
      "source": [
        "! pip install fuzzy-c-means"
      ]
    },
    {
      "cell_type": "code",
      "execution_count": 150,
      "id": "4a55fc63",
      "metadata": {
        "execution": {
          "iopub.execute_input": "2022-02-08T14:39:50.639491Z",
          "iopub.status.busy": "2022-02-08T14:39:50.638826Z",
          "iopub.status.idle": "2022-02-08T14:39:50.641303Z",
          "shell.execute_reply": "2022-02-08T14:39:50.640757Z",
          "shell.execute_reply.started": "2022-02-08T14:31:42.528743Z"
        },
        "papermill": {
          "duration": 0.063543,
          "end_time": "2022-02-08T14:39:50.641432",
          "exception": false,
          "start_time": "2022-02-08T14:39:50.577889",
          "status": "completed"
        },
        "tags": [],
        "id": "4a55fc63"
      },
      "outputs": [],
      "source": [
        "number_clusters = 5"
      ]
    },
    {
      "cell_type": "code",
      "execution_count": 151,
      "id": "6956c1bb",
      "metadata": {
        "execution": {
          "iopub.execute_input": "2022-02-08T14:39:50.758731Z",
          "iopub.status.busy": "2022-02-08T14:39:50.758047Z",
          "iopub.status.idle": "2022-02-08T14:39:51.012618Z",
          "shell.execute_reply": "2022-02-08T14:39:51.012064Z",
          "shell.execute_reply.started": "2022-02-08T14:31:43.456947Z"
        },
        "papermill": {
          "duration": 0.315659,
          "end_time": "2022-02-08T14:39:51.012761",
          "exception": false,
          "start_time": "2022-02-08T14:39:50.697102",
          "status": "completed"
        },
        "tags": [],
        "id": "6956c1bb"
      },
      "outputs": [],
      "source": [
        "from fcmeans import FCM\n",
        "\n",
        "fcm = FCM(n_clusters=number_clusters)\n",
        "fcm.fit(mall_dataset.values)\n",
        "\n",
        "# outputs\n",
        "fcm_centers = fcm.centers\n",
        "fcm_labels = fcm.predict(mall_dataset.values)"
      ]
    },
    {
      "cell_type": "code",
      "execution_count": 152,
      "id": "ac7fbaf4",
      "metadata": {
        "execution": {
          "iopub.execute_input": "2022-02-08T14:39:51.106511Z",
          "iopub.status.busy": "2022-02-08T14:39:51.106034Z",
          "iopub.status.idle": "2022-02-08T14:39:51.109385Z",
          "shell.execute_reply": "2022-02-08T14:39:51.109795Z",
          "shell.execute_reply.started": "2022-02-08T14:31:43.857881Z"
        },
        "papermill": {
          "duration": 0.044964,
          "end_time": "2022-02-08T14:39:51.109933",
          "exception": false,
          "start_time": "2022-02-08T14:39:51.064969",
          "status": "completed"
        },
        "tags": [],
        "id": "ac7fbaf4"
      },
      "outputs": [],
      "source": [
        "mall_dataset['Fuzzy_cluster'] = fcm_labels"
      ]
    },
    {
      "cell_type": "code",
      "execution_count": 153,
      "id": "9939de10",
      "metadata": {
        "execution": {
          "iopub.execute_input": "2022-02-08T14:39:51.191534Z",
          "iopub.status.busy": "2022-02-08T14:39:51.189865Z",
          "iopub.status.idle": "2022-02-08T14:39:51.200214Z",
          "shell.execute_reply": "2022-02-08T14:39:51.200632Z",
          "shell.execute_reply.started": "2022-02-08T14:31:44.272123Z"
        },
        "papermill": {
          "duration": 0.052542,
          "end_time": "2022-02-08T14:39:51.200782",
          "exception": false,
          "start_time": "2022-02-08T14:39:51.148240",
          "status": "completed"
        },
        "tags": [],
        "colab": {
          "base_uri": "https://localhost:8080/",
          "height": 419
        },
        "id": "9939de10",
        "outputId": "86180b84-8c01-4681-faf2-00a4c2046c15"
      },
      "outputs": [
        {
          "output_type": "execute_result",
          "data": {
            "text/plain": [
              "     Gender  Age  Percentage of Interest  Spending Score (1-100)  \\\n",
              "0         0   19                      15                      39   \n",
              "1         0   21                      15                      81   \n",
              "2         1   20                      16                       6   \n",
              "3         1   23                      16                      77   \n",
              "4         1   31                      17                      40   \n",
              "..      ...  ...                     ...                     ...   \n",
              "180       1   37                      97                      32   \n",
              "181       1   32                      97                      86   \n",
              "182       0   46                      98                      15   \n",
              "183       1   29                      98                      88   \n",
              "184       1   41                      99                      39   \n",
              "\n",
              "     Fuzzy_cluster  \n",
              "0                0  \n",
              "1                2  \n",
              "2                0  \n",
              "3                2  \n",
              "4                0  \n",
              "..             ...  \n",
              "180              4  \n",
              "181              1  \n",
              "182              4  \n",
              "183              1  \n",
              "184              4  \n",
              "\n",
              "[185 rows x 5 columns]"
            ],
            "text/html": [
              "\n",
              "  <div id=\"df-0cbaf0c3-2403-472c-88cd-59730f15e3ce\">\n",
              "    <div class=\"colab-df-container\">\n",
              "      <div>\n",
              "<style scoped>\n",
              "    .dataframe tbody tr th:only-of-type {\n",
              "        vertical-align: middle;\n",
              "    }\n",
              "\n",
              "    .dataframe tbody tr th {\n",
              "        vertical-align: top;\n",
              "    }\n",
              "\n",
              "    .dataframe thead th {\n",
              "        text-align: right;\n",
              "    }\n",
              "</style>\n",
              "<table border=\"1\" class=\"dataframe\">\n",
              "  <thead>\n",
              "    <tr style=\"text-align: right;\">\n",
              "      <th></th>\n",
              "      <th>Gender</th>\n",
              "      <th>Age</th>\n",
              "      <th>Percentage of Interest</th>\n",
              "      <th>Spending Score (1-100)</th>\n",
              "      <th>Fuzzy_cluster</th>\n",
              "    </tr>\n",
              "  </thead>\n",
              "  <tbody>\n",
              "    <tr>\n",
              "      <th>0</th>\n",
              "      <td>0</td>\n",
              "      <td>19</td>\n",
              "      <td>15</td>\n",
              "      <td>39</td>\n",
              "      <td>0</td>\n",
              "    </tr>\n",
              "    <tr>\n",
              "      <th>1</th>\n",
              "      <td>0</td>\n",
              "      <td>21</td>\n",
              "      <td>15</td>\n",
              "      <td>81</td>\n",
              "      <td>2</td>\n",
              "    </tr>\n",
              "    <tr>\n",
              "      <th>2</th>\n",
              "      <td>1</td>\n",
              "      <td>20</td>\n",
              "      <td>16</td>\n",
              "      <td>6</td>\n",
              "      <td>0</td>\n",
              "    </tr>\n",
              "    <tr>\n",
              "      <th>3</th>\n",
              "      <td>1</td>\n",
              "      <td>23</td>\n",
              "      <td>16</td>\n",
              "      <td>77</td>\n",
              "      <td>2</td>\n",
              "    </tr>\n",
              "    <tr>\n",
              "      <th>4</th>\n",
              "      <td>1</td>\n",
              "      <td>31</td>\n",
              "      <td>17</td>\n",
              "      <td>40</td>\n",
              "      <td>0</td>\n",
              "    </tr>\n",
              "    <tr>\n",
              "      <th>...</th>\n",
              "      <td>...</td>\n",
              "      <td>...</td>\n",
              "      <td>...</td>\n",
              "      <td>...</td>\n",
              "      <td>...</td>\n",
              "    </tr>\n",
              "    <tr>\n",
              "      <th>180</th>\n",
              "      <td>1</td>\n",
              "      <td>37</td>\n",
              "      <td>97</td>\n",
              "      <td>32</td>\n",
              "      <td>4</td>\n",
              "    </tr>\n",
              "    <tr>\n",
              "      <th>181</th>\n",
              "      <td>1</td>\n",
              "      <td>32</td>\n",
              "      <td>97</td>\n",
              "      <td>86</td>\n",
              "      <td>1</td>\n",
              "    </tr>\n",
              "    <tr>\n",
              "      <th>182</th>\n",
              "      <td>0</td>\n",
              "      <td>46</td>\n",
              "      <td>98</td>\n",
              "      <td>15</td>\n",
              "      <td>4</td>\n",
              "    </tr>\n",
              "    <tr>\n",
              "      <th>183</th>\n",
              "      <td>1</td>\n",
              "      <td>29</td>\n",
              "      <td>98</td>\n",
              "      <td>88</td>\n",
              "      <td>1</td>\n",
              "    </tr>\n",
              "    <tr>\n",
              "      <th>184</th>\n",
              "      <td>1</td>\n",
              "      <td>41</td>\n",
              "      <td>99</td>\n",
              "      <td>39</td>\n",
              "      <td>4</td>\n",
              "    </tr>\n",
              "  </tbody>\n",
              "</table>\n",
              "<p>185 rows × 5 columns</p>\n",
              "</div>\n",
              "      <button class=\"colab-df-convert\" onclick=\"convertToInteractive('df-0cbaf0c3-2403-472c-88cd-59730f15e3ce')\"\n",
              "              title=\"Convert this dataframe to an interactive table.\"\n",
              "              style=\"display:none;\">\n",
              "        \n",
              "  <svg xmlns=\"http://www.w3.org/2000/svg\" height=\"24px\"viewBox=\"0 0 24 24\"\n",
              "       width=\"24px\">\n",
              "    <path d=\"M0 0h24v24H0V0z\" fill=\"none\"/>\n",
              "    <path d=\"M18.56 5.44l.94 2.06.94-2.06 2.06-.94-2.06-.94-.94-2.06-.94 2.06-2.06.94zm-11 1L8.5 8.5l.94-2.06 2.06-.94-2.06-.94L8.5 2.5l-.94 2.06-2.06.94zm10 10l.94 2.06.94-2.06 2.06-.94-2.06-.94-.94-2.06-.94 2.06-2.06.94z\"/><path d=\"M17.41 7.96l-1.37-1.37c-.4-.4-.92-.59-1.43-.59-.52 0-1.04.2-1.43.59L10.3 9.45l-7.72 7.72c-.78.78-.78 2.05 0 2.83L4 21.41c.39.39.9.59 1.41.59.51 0 1.02-.2 1.41-.59l7.78-7.78 2.81-2.81c.8-.78.8-2.07 0-2.86zM5.41 20L4 18.59l7.72-7.72 1.47 1.35L5.41 20z\"/>\n",
              "  </svg>\n",
              "      </button>\n",
              "      \n",
              "  <style>\n",
              "    .colab-df-container {\n",
              "      display:flex;\n",
              "      flex-wrap:wrap;\n",
              "      gap: 12px;\n",
              "    }\n",
              "\n",
              "    .colab-df-convert {\n",
              "      background-color: #E8F0FE;\n",
              "      border: none;\n",
              "      border-radius: 50%;\n",
              "      cursor: pointer;\n",
              "      display: none;\n",
              "      fill: #1967D2;\n",
              "      height: 32px;\n",
              "      padding: 0 0 0 0;\n",
              "      width: 32px;\n",
              "    }\n",
              "\n",
              "    .colab-df-convert:hover {\n",
              "      background-color: #E2EBFA;\n",
              "      box-shadow: 0px 1px 2px rgba(60, 64, 67, 0.3), 0px 1px 3px 1px rgba(60, 64, 67, 0.15);\n",
              "      fill: #174EA6;\n",
              "    }\n",
              "\n",
              "    [theme=dark] .colab-df-convert {\n",
              "      background-color: #3B4455;\n",
              "      fill: #D2E3FC;\n",
              "    }\n",
              "\n",
              "    [theme=dark] .colab-df-convert:hover {\n",
              "      background-color: #434B5C;\n",
              "      box-shadow: 0px 1px 3px 1px rgba(0, 0, 0, 0.15);\n",
              "      filter: drop-shadow(0px 1px 2px rgba(0, 0, 0, 0.3));\n",
              "      fill: #FFFFFF;\n",
              "    }\n",
              "  </style>\n",
              "\n",
              "      <script>\n",
              "        const buttonEl =\n",
              "          document.querySelector('#df-0cbaf0c3-2403-472c-88cd-59730f15e3ce button.colab-df-convert');\n",
              "        buttonEl.style.display =\n",
              "          google.colab.kernel.accessAllowed ? 'block' : 'none';\n",
              "\n",
              "        async function convertToInteractive(key) {\n",
              "          const element = document.querySelector('#df-0cbaf0c3-2403-472c-88cd-59730f15e3ce');\n",
              "          const dataTable =\n",
              "            await google.colab.kernel.invokeFunction('convertToInteractive',\n",
              "                                                     [key], {});\n",
              "          if (!dataTable) return;\n",
              "\n",
              "          const docLinkHtml = 'Like what you see? Visit the ' +\n",
              "            '<a target=\"_blank\" href=https://colab.research.google.com/notebooks/data_table.ipynb>data table notebook</a>'\n",
              "            + ' to learn more about interactive tables.';\n",
              "          element.innerHTML = '';\n",
              "          dataTable['output_type'] = 'display_data';\n",
              "          await google.colab.output.renderOutput(dataTable, element);\n",
              "          const docLink = document.createElement('div');\n",
              "          docLink.innerHTML = docLinkHtml;\n",
              "          element.appendChild(docLink);\n",
              "        }\n",
              "      </script>\n",
              "    </div>\n",
              "  </div>\n",
              "  "
            ]
          },
          "metadata": {},
          "execution_count": 153
        }
      ],
      "source": [
        "mall_dataset"
      ]
    },
    {
      "cell_type": "code",
      "source": [
        "#mall_dataset = mall_dataset.rename(columns={\"Annual Income (k$)\": \"Interest in E-commerce\"})"
      ],
      "metadata": {
        "id": "8arqe_2jlB_n"
      },
      "id": "8arqe_2jlB_n",
      "execution_count": 52,
      "outputs": []
    },
    {
      "cell_type": "code",
      "source": [
        "mall_dataset"
      ],
      "metadata": {
        "colab": {
          "base_uri": "https://localhost:8080/",
          "height": 419
        },
        "id": "SEkXMtFrpomX",
        "outputId": "c6d2443d-0a8c-4c95-af5e-8efd7041417d"
      },
      "id": "SEkXMtFrpomX",
      "execution_count": 69,
      "outputs": [
        {
          "output_type": "execute_result",
          "data": {
            "text/plain": [
              "     Gender  Age  Interest to Buy  Spending  Fuzzy_cluster\n",
              "0       NaN   32              0.8       0.6              0\n",
              "1       NaN   45              0.6       0.3              0\n",
              "2       NaN   27              0.9       0.8              0\n",
              "3       NaN   38              0.4       0.2              0\n",
              "4       NaN   50              0.7       0.5              0\n",
              "..      ...  ...              ...       ...            ...\n",
              "295     NaN   46              0.5       0.3              0\n",
              "296     NaN   29              0.4       0.2              0\n",
              "297     NaN   58              0.9       0.8              0\n",
              "298     NaN   43              0.7       0.5              0\n",
              "299     NaN   21              0.2       0.1              0\n",
              "\n",
              "[300 rows x 5 columns]"
            ],
            "text/html": [
              "\n",
              "  <div id=\"df-a5cb8eba-0b7e-40ce-82ce-b4d8bba79edc\">\n",
              "    <div class=\"colab-df-container\">\n",
              "      <div>\n",
              "<style scoped>\n",
              "    .dataframe tbody tr th:only-of-type {\n",
              "        vertical-align: middle;\n",
              "    }\n",
              "\n",
              "    .dataframe tbody tr th {\n",
              "        vertical-align: top;\n",
              "    }\n",
              "\n",
              "    .dataframe thead th {\n",
              "        text-align: right;\n",
              "    }\n",
              "</style>\n",
              "<table border=\"1\" class=\"dataframe\">\n",
              "  <thead>\n",
              "    <tr style=\"text-align: right;\">\n",
              "      <th></th>\n",
              "      <th>Gender</th>\n",
              "      <th>Age</th>\n",
              "      <th>Interest to Buy</th>\n",
              "      <th>Spending</th>\n",
              "      <th>Fuzzy_cluster</th>\n",
              "    </tr>\n",
              "  </thead>\n",
              "  <tbody>\n",
              "    <tr>\n",
              "      <th>0</th>\n",
              "      <td>NaN</td>\n",
              "      <td>32</td>\n",
              "      <td>0.8</td>\n",
              "      <td>0.6</td>\n",
              "      <td>0</td>\n",
              "    </tr>\n",
              "    <tr>\n",
              "      <th>1</th>\n",
              "      <td>NaN</td>\n",
              "      <td>45</td>\n",
              "      <td>0.6</td>\n",
              "      <td>0.3</td>\n",
              "      <td>0</td>\n",
              "    </tr>\n",
              "    <tr>\n",
              "      <th>2</th>\n",
              "      <td>NaN</td>\n",
              "      <td>27</td>\n",
              "      <td>0.9</td>\n",
              "      <td>0.8</td>\n",
              "      <td>0</td>\n",
              "    </tr>\n",
              "    <tr>\n",
              "      <th>3</th>\n",
              "      <td>NaN</td>\n",
              "      <td>38</td>\n",
              "      <td>0.4</td>\n",
              "      <td>0.2</td>\n",
              "      <td>0</td>\n",
              "    </tr>\n",
              "    <tr>\n",
              "      <th>4</th>\n",
              "      <td>NaN</td>\n",
              "      <td>50</td>\n",
              "      <td>0.7</td>\n",
              "      <td>0.5</td>\n",
              "      <td>0</td>\n",
              "    </tr>\n",
              "    <tr>\n",
              "      <th>...</th>\n",
              "      <td>...</td>\n",
              "      <td>...</td>\n",
              "      <td>...</td>\n",
              "      <td>...</td>\n",
              "      <td>...</td>\n",
              "    </tr>\n",
              "    <tr>\n",
              "      <th>295</th>\n",
              "      <td>NaN</td>\n",
              "      <td>46</td>\n",
              "      <td>0.5</td>\n",
              "      <td>0.3</td>\n",
              "      <td>0</td>\n",
              "    </tr>\n",
              "    <tr>\n",
              "      <th>296</th>\n",
              "      <td>NaN</td>\n",
              "      <td>29</td>\n",
              "      <td>0.4</td>\n",
              "      <td>0.2</td>\n",
              "      <td>0</td>\n",
              "    </tr>\n",
              "    <tr>\n",
              "      <th>297</th>\n",
              "      <td>NaN</td>\n",
              "      <td>58</td>\n",
              "      <td>0.9</td>\n",
              "      <td>0.8</td>\n",
              "      <td>0</td>\n",
              "    </tr>\n",
              "    <tr>\n",
              "      <th>298</th>\n",
              "      <td>NaN</td>\n",
              "      <td>43</td>\n",
              "      <td>0.7</td>\n",
              "      <td>0.5</td>\n",
              "      <td>0</td>\n",
              "    </tr>\n",
              "    <tr>\n",
              "      <th>299</th>\n",
              "      <td>NaN</td>\n",
              "      <td>21</td>\n",
              "      <td>0.2</td>\n",
              "      <td>0.1</td>\n",
              "      <td>0</td>\n",
              "    </tr>\n",
              "  </tbody>\n",
              "</table>\n",
              "<p>300 rows × 5 columns</p>\n",
              "</div>\n",
              "      <button class=\"colab-df-convert\" onclick=\"convertToInteractive('df-a5cb8eba-0b7e-40ce-82ce-b4d8bba79edc')\"\n",
              "              title=\"Convert this dataframe to an interactive table.\"\n",
              "              style=\"display:none;\">\n",
              "        \n",
              "  <svg xmlns=\"http://www.w3.org/2000/svg\" height=\"24px\"viewBox=\"0 0 24 24\"\n",
              "       width=\"24px\">\n",
              "    <path d=\"M0 0h24v24H0V0z\" fill=\"none\"/>\n",
              "    <path d=\"M18.56 5.44l.94 2.06.94-2.06 2.06-.94-2.06-.94-.94-2.06-.94 2.06-2.06.94zm-11 1L8.5 8.5l.94-2.06 2.06-.94-2.06-.94L8.5 2.5l-.94 2.06-2.06.94zm10 10l.94 2.06.94-2.06 2.06-.94-2.06-.94-.94-2.06-.94 2.06-2.06.94z\"/><path d=\"M17.41 7.96l-1.37-1.37c-.4-.4-.92-.59-1.43-.59-.52 0-1.04.2-1.43.59L10.3 9.45l-7.72 7.72c-.78.78-.78 2.05 0 2.83L4 21.41c.39.39.9.59 1.41.59.51 0 1.02-.2 1.41-.59l7.78-7.78 2.81-2.81c.8-.78.8-2.07 0-2.86zM5.41 20L4 18.59l7.72-7.72 1.47 1.35L5.41 20z\"/>\n",
              "  </svg>\n",
              "      </button>\n",
              "      \n",
              "  <style>\n",
              "    .colab-df-container {\n",
              "      display:flex;\n",
              "      flex-wrap:wrap;\n",
              "      gap: 12px;\n",
              "    }\n",
              "\n",
              "    .colab-df-convert {\n",
              "      background-color: #E8F0FE;\n",
              "      border: none;\n",
              "      border-radius: 50%;\n",
              "      cursor: pointer;\n",
              "      display: none;\n",
              "      fill: #1967D2;\n",
              "      height: 32px;\n",
              "      padding: 0 0 0 0;\n",
              "      width: 32px;\n",
              "    }\n",
              "\n",
              "    .colab-df-convert:hover {\n",
              "      background-color: #E2EBFA;\n",
              "      box-shadow: 0px 1px 2px rgba(60, 64, 67, 0.3), 0px 1px 3px 1px rgba(60, 64, 67, 0.15);\n",
              "      fill: #174EA6;\n",
              "    }\n",
              "\n",
              "    [theme=dark] .colab-df-convert {\n",
              "      background-color: #3B4455;\n",
              "      fill: #D2E3FC;\n",
              "    }\n",
              "\n",
              "    [theme=dark] .colab-df-convert:hover {\n",
              "      background-color: #434B5C;\n",
              "      box-shadow: 0px 1px 3px 1px rgba(0, 0, 0, 0.15);\n",
              "      filter: drop-shadow(0px 1px 2px rgba(0, 0, 0, 0.3));\n",
              "      fill: #FFFFFF;\n",
              "    }\n",
              "  </style>\n",
              "\n",
              "      <script>\n",
              "        const buttonEl =\n",
              "          document.querySelector('#df-a5cb8eba-0b7e-40ce-82ce-b4d8bba79edc button.colab-df-convert');\n",
              "        buttonEl.style.display =\n",
              "          google.colab.kernel.accessAllowed ? 'block' : 'none';\n",
              "\n",
              "        async function convertToInteractive(key) {\n",
              "          const element = document.querySelector('#df-a5cb8eba-0b7e-40ce-82ce-b4d8bba79edc');\n",
              "          const dataTable =\n",
              "            await google.colab.kernel.invokeFunction('convertToInteractive',\n",
              "                                                     [key], {});\n",
              "          if (!dataTable) return;\n",
              "\n",
              "          const docLinkHtml = 'Like what you see? Visit the ' +\n",
              "            '<a target=\"_blank\" href=https://colab.research.google.com/notebooks/data_table.ipynb>data table notebook</a>'\n",
              "            + ' to learn more about interactive tables.';\n",
              "          element.innerHTML = '';\n",
              "          dataTable['output_type'] = 'display_data';\n",
              "          await google.colab.output.renderOutput(dataTable, element);\n",
              "          const docLink = document.createElement('div');\n",
              "          docLink.innerHTML = docLinkHtml;\n",
              "          element.appendChild(docLink);\n",
              "        }\n",
              "      </script>\n",
              "    </div>\n",
              "  </div>\n",
              "  "
            ]
          },
          "metadata": {},
          "execution_count": 69
        }
      ]
    },
    {
      "cell_type": "code",
      "execution_count": 154,
      "id": "5eea1fcd",
      "metadata": {
        "execution": {
          "iopub.execute_input": "2022-02-08T14:39:51.300432Z",
          "iopub.status.busy": "2022-02-08T14:39:51.299787Z",
          "iopub.status.idle": "2022-02-08T14:39:51.860515Z",
          "shell.execute_reply": "2022-02-08T14:39:51.861035Z",
          "shell.execute_reply.started": "2022-02-08T14:31:44.704649Z"
        },
        "papermill": {
          "duration": 0.620814,
          "end_time": "2022-02-08T14:39:51.861207",
          "exception": false,
          "start_time": "2022-02-08T14:39:51.240393",
          "status": "completed"
        },
        "tags": [],
        "colab": {
          "base_uri": "https://localhost:8080/",
          "height": 523
        },
        "id": "5eea1fcd",
        "outputId": "7c9f8229-62f0-423b-c70b-57a24b56c194"
      },
      "outputs": [
        {
          "output_type": "execute_result",
          "data": {
            "text/plain": [
              "<seaborn.axisgrid.FacetGrid at 0x7f39abf59540>"
            ]
          },
          "metadata": {},
          "execution_count": 154
        },
        {
          "output_type": "display_data",
          "data": {
            "text/plain": [
              "<Figure size 615.347x500 with 1 Axes>"
            ],
            "image/png": "[encoded data removed]"
          },
          "metadata": {}
        }
      ],
      "source": [
        "sns.relplot(x='Percentage of Interest', y='Spending Score (1-100)',hue='Fuzzy_cluster', size=\"Gender\",\n",
        "             data=mall_dataset, palette = \"Paired\")"
      ]
    },
    {
      "cell_type": "code",
      "execution_count": 111,
      "id": "96eecbb0",
      "metadata": {
        "execution": {
          "iopub.execute_input": "2022-02-08T14:39:51.982936Z",
          "iopub.status.busy": "2022-02-08T14:39:51.982306Z",
          "iopub.status.idle": "2022-02-08T14:39:52.506726Z",
          "shell.execute_reply": "2022-02-08T14:39:52.507129Z",
          "shell.execute_reply.started": "2022-02-08T14:31:45.481126Z"
        },
        "papermill": {
          "duration": 0.58674,
          "end_time": "2022-02-08T14:39:52.507289",
          "exception": false,
          "start_time": "2022-02-08T14:39:51.920549",
          "status": "completed"
        },
        "tags": [],
        "colab": {
          "base_uri": "https://localhost:8080/",
          "height": 523
        },
        "id": "96eecbb0",
        "outputId": "85fc6b65-5425-433d-ac86-d80815f466e1"
      },
      "outputs": [
        {
          "output_type": "execute_result",
          "data": {
            "text/plain": [
              "<seaborn.axisgrid.FacetGrid at 0x7f39aa37ab90>"
            ]
          },
          "metadata": {},
          "execution_count": 111
        },
        {
          "output_type": "display_data",
          "data": {
            "text/plain": [
              "<Figure size 604.236x500 with 1 Axes>"
            ],
            "image/png": "[encoded data removed]"
          },
          "metadata": {}
        }
      ],
      "source": [
        "sns.relplot(x='Age', y='Percentage of Interest', hue='Fuzzy_cluster', data=mall_dataset, palette = \"Paired\")"
      ]
    },
    {
      "cell_type": "markdown",
      "id": "dc139dee",
      "metadata": {
        "papermill": {
          "duration": 0.041759,
          "end_time": "2022-02-08T14:39:52.591468",
          "exception": false,
          "start_time": "2022-02-08T14:39:52.549709",
          "status": "completed"
        },
        "tags": [],
        "id": "dc139dee"
      },
      "source": [
        "#### Evaluating Fuzzy C-Means"
      ]
    },
    {
      "cell_type": "code",
      "execution_count": 155,
      "id": "8ab404ca",
      "metadata": {
        "execution": {
          "iopub.execute_input": "2022-02-08T14:39:52.681309Z",
          "iopub.status.busy": "2022-02-08T14:39:52.680540Z",
          "iopub.status.idle": "2022-02-08T14:39:52.701171Z",
          "shell.execute_reply": "2022-02-08T14:39:52.701646Z",
          "shell.execute_reply.started": "2022-02-08T14:31:46.12918Z"
        },
        "papermill": {
          "duration": 0.069251,
          "end_time": "2022-02-08T14:39:52.701808",
          "exception": false,
          "start_time": "2022-02-08T14:39:52.632557",
          "status": "completed"
        },
        "tags": [],
        "colab": {
          "base_uri": "https://localhost:8080/"
        },
        "id": "8ab404ca",
        "outputId": "2cf00293-ee9e-4d51-a436-a3fa08b8b3cb"
      },
      "outputs": [
        {
          "output_type": "stream",
          "name": "stdout",
          "text": [
            "Silhouette score: 0.4462342998599262\n",
            "Davies Bouldin score: 0.8262932778809244\n",
            "Calinski Harabasz score: 143.84662132838284\n"
          ]
        }
      ],
      "source": [
        "print(\"Silhouette score: {}\".format(silhouette_score(mall_dataset.drop(['Fuzzy_cluster'], axis=1), fcm_labels)))\n",
        "print(\"Davies Bouldin score: {}\".format(davies_bouldin_score(mall_dataset.drop(['Fuzzy_cluster'], axis=1), fcm_labels)))\n",
        "print(\"Calinski Harabasz score: {}\".format(calinski_harabasz_score(mall_dataset.drop(['Fuzzy_cluster'], axis=1), fcm_labels)))"
      ]
    }
  ],
  "metadata": {
    "kernelspec": {
      "display_name": "Python 3",
      "language": "python",
      "name": "python3"
    },
    "language_info": {
      "codemirror_mode": {
        "name": "ipython",
        "version": 3
      },
      "file_extension": ".py",
      "mimetype": "text/x-python",
      "name": "python",
      "nbconvert_exporter": "python",
      "pygments_lexer": "ipython3",
      "version": "3.7.12"
    },
    "papermill": {
      "default_parameters": {},
      "duration": 33.450813,
      "end_time": "2022-02-08T14:39:55.069636",
      "environment_variables": {},
      "exception": null,
      "input_path": "__notebook__.ipynb",
      "output_path": "__notebook__.ipynb",
      "parameters": {},
      "start_time": "2022-02-08T14:39:21.618823",
      "version": "2.3.3"
    },
    "colab": {
      "provenance": []
    }
  },
  "nbformat": 4,
  "nbformat_minor": 5
}